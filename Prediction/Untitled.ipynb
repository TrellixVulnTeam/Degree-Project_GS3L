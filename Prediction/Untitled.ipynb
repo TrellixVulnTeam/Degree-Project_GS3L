{
 "cells": [
  {
   "cell_type": "code",
   "execution_count": 1,
   "metadata": {},
   "outputs": [
    {
     "data": {
      "text/plain": [
       "<firebase_admin.App at 0x22258987ac8>"
      ]
     },
     "execution_count": 1,
     "metadata": {},
     "output_type": "execute_result"
    }
   ],
   "source": [
    "import firebase_admin\n",
    "from firebase_admin import credentials\n",
    "from firebase_admin import firestore\n",
    "\n",
    "cred = credentials.Certificate(\"helius.json\")\n",
    "firebase_admin.initialize_app(cred)"
   ]
  },
  {
   "cell_type": "code",
   "execution_count": 3,
   "metadata": {},
   "outputs": [],
   "source": [
    "db = firestore.client()"
   ]
  },
  {
   "cell_type": "code",
   "execution_count": 7,
   "metadata": {},
   "outputs": [
    {
     "data": {
      "text/plain": [
       "update_time {\n",
       "  seconds: 1615165028\n",
       "  nanos: 223700000\n",
       "}"
      ]
     },
     "execution_count": 7,
     "metadata": {},
     "output_type": "execute_result"
    }
   ],
   "source": [
    "doc_ref = db.collection(u'User_Info').document(u'Yash')\n",
    "doc_ref.set({\n",
    "    u'Name': u'Yash Gupta',\n",
    "    u'Address': '557 Beverly St',\n",
    "    u'City': 'Thunder Bay',\n",
    "    u'Province': 'Ontario',\n",
    "    u'Postal Code': 'P7B5S8',\n",
    "    u'Email': 'ygupta1@lakeheadu.ca',\n",
    "    u'Phone': '8073564074',\n",
    "})\n",
    "doc_ref = db.collection(u'User_Info').document(u'Marko')\n",
    "doc_ref.set({\n",
    "    u'Name': u'Yash Gupta',\n",
    "    u'Address': '556 Beverly St',\n",
    "    u'City': 'Thunder Bay',\n",
    "    u'Province': 'Ontario',\n",
    "    u'Postal Code': 'P7B5S8',\n",
    "    u'Email': 'mjavorac@lakeheadu.ca',\n",
    "    u'Phone': '8073564075',\n",
    "})\n",
    "doc_ref = db.collection(u'User_Info').document(u'Shaun')\n",
    "doc_ref.set({\n",
    "    u'Name': u'Shaun Cyr',\n",
    "    u'Address': '554 Beverly St',\n",
    "    u'City': 'Thunder Bay',\n",
    "    u'Province': 'Ontario',\n",
    "    u'Postal Code': 'P7B5S8',\n",
    "    u'Email': 'sbcyr@lakeheadu.ca',\n",
    "    u'Phone': '8073564076',\n",
    "})"
   ]
  },
  {
   "cell_type": "code",
   "execution_count": 8,
   "metadata": {},
   "outputs": [
    {
     "data": {
      "text/plain": [
       "update_time {\n",
       "  seconds: 1615165036\n",
       "  nanos: 711261000\n",
       "}"
      ]
     },
     "execution_count": 8,
     "metadata": {},
     "output_type": "execute_result"
    }
   ],
   "source": [
    "db = firestore.client()\n",
    "doc_ref = db.collection(u'Wallet').document(u'Yash')\n",
    "doc_ref.set({\n",
    "    u'Wallet':100\n",
    "})\n",
    "doc_ref = db.collection(u'Wallet').document(u'Marko')\n",
    "doc_ref.set({\n",
    "    u'Wallet':100\n",
    "})\n",
    "doc_ref = db.collection(u'Wallet').document(u'Shaun')\n",
    "doc_ref.set({\n",
    "     u'Wallet':100\n",
    "})"
   ]
  },
  {
   "cell_type": "code",
   "execution_count": 10,
   "metadata": {},
   "outputs": [
    {
     "data": {
      "text/plain": [
       "update_time {\n",
       "  seconds: 1615165232\n",
       "  nanos: 63538000\n",
       "}"
      ]
     },
     "execution_count": 10,
     "metadata": {},
     "output_type": "execute_result"
    }
   ],
   "source": [
    "db = firestore.client()\n",
    "doc_ref = db.collection(u'Postings').document(u'Shaun')\n",
    "doc_ref.set({\n",
    "     u'user_name': u'Shaun Cyr',\n",
    "     u'Energy': 1,\n",
    "     u'Amount': 10,\n",
    "})"
   ]
  },
  {
   "cell_type": "code",
   "execution_count": 11,
   "metadata": {},
   "outputs": [
    {
     "data": {
      "text/plain": [
       "'557 Beverly St'"
      ]
     },
     "execution_count": 11,
     "metadata": {},
     "output_type": "execute_result"
    }
   ],
   "source": [
    "name = 'Yash'\n",
    "doc_ref = db.collection(u'User_Info').document(name)\n",
    "doc = doc_ref.get()\n",
    "doc.to_dict()['Address']"
   ]
  }
 ],
 "metadata": {
  "kernelspec": {
   "display_name": "Python 3",
   "language": "python",
   "name": "python3"
  },
  "language_info": {
   "codemirror_mode": {
    "name": "ipython",
    "version": 3
   },
   "file_extension": ".py",
   "mimetype": "text/x-python",
   "name": "python",
   "nbconvert_exporter": "python",
   "pygments_lexer": "ipython3",
   "version": "3.7.9"
  }
 },
 "nbformat": 4,
 "nbformat_minor": 4
}
